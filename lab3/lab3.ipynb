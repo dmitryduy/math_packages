{
 "cells": [
  {
   "cell_type": "markdown",
   "id": "d34f2ac8",
   "metadata": {},
   "source": [
    "# Лабораторная работа №3"
   ]
  },
  {
   "cell_type": "markdown",
   "id": "fd3cb91e",
   "metadata": {},
   "source": [
    "**Цель работы:** практическое применение библиотеки символьных вычислений Python\n",
    "(SymPy) для решения задач дискретной математики и математической логики."
   ]
  },
  {
   "cell_type": "markdown",
   "id": "81cf0f59",
   "metadata": {},
   "source": [
    "**Задачи:** \n",
    "1. Решить свой вариант диофантова уравнения.\n",
    "2. Имея открытую часть ключа RSA найти соответствующую закрытую часть и\n",
    "расшифровать кодированное слово.\n",
    "3. Записать в формате ДНФ и КНФ булеву функцию, заданную своим аналитическим\n",
    "выражением."
   ]
  },
  {
   "cell_type": "markdown",
   "id": "e7b43a68",
   "metadata": {},
   "source": [
    "## 1. Решение диофантова уравнения"
   ]
  },
  {
   "cell_type": "code",
   "execution_count": 5,
   "id": "5a3553cb",
   "metadata": {},
   "outputs": [
    {
     "name": "stdout",
     "output_type": "stream",
     "text": [
      "{(253*t_0 + 194, -193*t_0 - 148)}\n"
     ]
    }
   ],
   "source": [
    "from sympy.solvers.diophantine import diophantine\n",
    "from sympy import symbols\n",
    "x, y = symbols(\"x, y\", integer=True)\n",
    "print(diophantine(3281*x + 4301*y + 34))"
   ]
  },
  {
   "cell_type": "markdown",
   "id": "03311ccf",
   "metadata": {},
   "source": [
    "Как видно из результата выше, решение диофантова уравнения 3281x + 4301y = -34 имеет вид: x = 253t + 194; y= -193t - 148"
   ]
  },
  {
   "cell_type": "markdown",
   "id": "cf63f250",
   "metadata": {},
   "source": [
    "## 2. Расшифровка кодового слова"
   ]
  },
  {
   "cell_type": "markdown",
   "id": "5cd8c88f",
   "metadata": {},
   "source": [
    "**Задание:** Русское слово из четырех вукв закодировано при помощи алгоритма RSA открытым ключом (e=11, m=33). Шифрованое сообение имеет вид (25;2;18;28). Подберите закрытую часть ключа и прочитайте исходное слово."
   ]
  },
  {
   "cell_type": "code",
   "execution_count": 25,
   "id": "972ab478",
   "metadata": {},
   "outputs": [
    {
     "name": "stdout",
     "output_type": "stream",
     "text": [
      "Закодированное слово: чары\n"
     ]
    }
   ],
   "source": [
    "from sympy.crypto.crypto import rsa_private_key, decipher_rsa\n",
    "alphabet = ['а', 'б', 'в', 'г', 'д', 'е', 'ж', 'з', 'и', 'й', 'к', 'л', 'м', 'н', 'о', 'п', 'р', 'с', 'т', 'у', 'ф', 'х', 'ц',\n",
    "            'ч', 'ш', 'щ', 'ы', 'ь', 'э','ю','я']\n",
    "private_key = rsa_private_key(3, 11, 11)\n",
    "f = alphabet[decipher_rsa(25, private_key) - 2] \n",
    "s = alphabet[decipher_rsa(2, private_key)-2]\n",
    "t = alphabet[decipher_rsa(18, private_key) - 2]\n",
    "four = alphabet[decipher_rsa(28, private_key)-2]\n",
    "print('Закодированное слово: '+ f + s + t + four)"
   ]
  },
  {
   "cell_type": "markdown",
   "id": "3118a19e",
   "metadata": {},
   "source": [
    "## 3. Запись в формате ДНФ и КНФ булевой функции"
   ]
  },
  {
   "cell_type": "markdown",
   "id": "32ac4f1b",
   "metadata": {},
   "source": [
    "f(x,y,z) = (z xor (yx)) or ((x xor y)(z or x))"
   ]
  },
  {
   "cell_type": "code",
   "execution_count": 34,
   "id": "270e6a25",
   "metadata": {},
   "outputs": [
    {
     "name": "stdout",
     "output_type": "stream",
     "text": [
      "(x & ~z) | (z & ~x) | (z & ~y)\n"
     ]
    },
    {
     "data": {
      "text/latex": [
       "$\\displaystyle \\left(x \\vee z\\right) \\wedge \\left(\\neg x \\vee \\neg y \\vee \\neg z\\right)$"
      ],
      "text/plain": [
       "(x | z) & (~x | ~y | ~z)"
      ]
     },
     "execution_count": 34,
     "metadata": {},
     "output_type": "execute_result"
    }
   ],
   "source": [
    "from sympy.logic.boolalg import to_dnf, to_cnf\n",
    "from sympy.abc import x, y, z\n",
    "from sympy.logic.boolalg import Xor\n",
    "print(to_dnf(Xor(z, (y & x)) | (Xor(x, y) & (z | x)), simplify=True))\n",
    "(to_cnf(Xor(z, (y & x)) | (Xor(x, y) & (z | x)), simplify=True))"
   ]
  },
  {
   "cell_type": "markdown",
   "id": "d6833f5c",
   "metadata": {},
   "source": [
    "## Вывод"
   ]
  },
  {
   "cell_type": "markdown",
   "id": "24c786dd",
   "metadata": {},
   "source": [
    "В результате выполнения данной лабораторной работы была изучена бибилиотека sympy, а также были применены некоторые функции этой библиотеки для решения задач дискретной математики и математической логики."
   ]
  }
 ],
 "metadata": {
  "kernelspec": {
   "display_name": "Python 3 (ipykernel)",
   "language": "python",
   "name": "python3"
  },
  "language_info": {
   "codemirror_mode": {
    "name": "ipython",
    "version": 3
   },
   "file_extension": ".py",
   "mimetype": "text/x-python",
   "name": "python",
   "nbconvert_exporter": "python",
   "pygments_lexer": "ipython3",
   "version": "3.9.5"
  }
 },
 "nbformat": 4,
 "nbformat_minor": 5
}
